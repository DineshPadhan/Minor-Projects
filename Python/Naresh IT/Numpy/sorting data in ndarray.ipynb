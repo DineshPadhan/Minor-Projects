{
 "cells": [
  {
   "cell_type": "code",
   "execution_count": 3,
   "metadata": {},
   "outputs": [
    {
     "name": "stdout",
     "output_type": "stream",
     "text": [
      "[[10 15 25]\n",
      " [35 24 12]\n",
      " [36 28 19]]\n"
     ]
    },
    {
     "data": {
      "text/plain": [
       "array([10, 15, 25, 35, 24, 12, 36, 28, 19])"
      ]
     },
     "execution_count": 3,
     "metadata": {},
     "output_type": "execute_result"
    }
   ],
   "source": [
    "import numpy as np\n",
    "a = np.array([[10,15,25],[35, 24,12],[36,28,19]])\n",
    "print(a)\n",
    "a.shape = (9,)\n",
    "a"
   ]
  },
  {
   "cell_type": "code",
   "execution_count": 4,
   "metadata": {},
   "outputs": [
    {
     "data": {
      "text/plain": [
       "array([10, 12, 15, 19, 24, 25, 28, 35, 36])"
      ]
     },
     "execution_count": 4,
     "metadata": {},
     "output_type": "execute_result"
    }
   ],
   "source": [
    "np.sort(a)"
   ]
  },
  {
   "cell_type": "code",
   "execution_count": 5,
   "metadata": {},
   "outputs": [
    {
     "data": {
      "text/plain": [
       "array([[10, 15, 25],\n",
       "       [35, 24, 12],\n",
       "       [36, 28, 19]])"
      ]
     },
     "execution_count": 5,
     "metadata": {},
     "output_type": "execute_result"
    }
   ],
   "source": [
    "a = np.array([[10,15,25],[35, 24,12],[36,28,19]])\n",
    "a"
   ]
  },
  {
   "cell_type": "code",
   "execution_count": 6,
   "metadata": {},
   "outputs": [
    {
     "data": {
      "text/plain": [
       "array([[10, 15, 25],\n",
       "       [12, 24, 35],\n",
       "       [19, 28, 36]])"
      ]
     },
     "execution_count": 6,
     "metadata": {},
     "output_type": "execute_result"
    }
   ],
   "source": [
    "np.sort(a) # row wise sort"
   ]
  },
  {
   "cell_type": "code",
   "execution_count": 9,
   "metadata": {},
   "outputs": [
    {
     "data": {
      "text/plain": [
       "array([[10, 15, 12],\n",
       "       [35, 24, 19],\n",
       "       [36, 28, 25]])"
      ]
     },
     "execution_count": 9,
     "metadata": {},
     "output_type": "execute_result"
    }
   ],
   "source": [
    "np.sort(a, axis = 0) # col wise sort"
   ]
  },
  {
   "cell_type": "code",
   "execution_count": 10,
   "metadata": {},
   "outputs": [],
   "source": [
    "a = np.array([[[1, 2, 3, 4, 5],\n",
    "                   [1, 2, 2, 2, 2]],\n",
    "                   [[4, 5, 7, 9, 4],\n",
    "                   [6, 7, 8, 9, 2]],\n",
    "                   [[2, 3, 4, 8, 6],\n",
    "                    [1, 2, 2, 2, 2]]])"
   ]
  },
  {
   "cell_type": "code",
   "execution_count": 11,
   "metadata": {},
   "outputs": [
    {
     "data": {
      "text/plain": [
       "array([[[1, 2, 3, 4, 5],\n",
       "        [1, 2, 2, 2, 2]],\n",
       "\n",
       "       [[4, 5, 7, 9, 4],\n",
       "        [6, 7, 8, 9, 2]],\n",
       "\n",
       "       [[2, 3, 4, 8, 6],\n",
       "        [1, 2, 2, 2, 2]]])"
      ]
     },
     "execution_count": 11,
     "metadata": {},
     "output_type": "execute_result"
    }
   ],
   "source": [
    "a"
   ]
  },
  {
   "cell_type": "code",
   "execution_count": 12,
   "metadata": {},
   "outputs": [
    {
     "data": {
      "text/plain": [
       "array([[[1, 2, 3, 4, 5],\n",
       "        [1, 2, 2, 2, 2]],\n",
       "\n",
       "       [[4, 4, 5, 7, 9],\n",
       "        [2, 6, 7, 8, 9]],\n",
       "\n",
       "       [[2, 3, 4, 6, 8],\n",
       "        [1, 2, 2, 2, 2]]])"
      ]
     },
     "execution_count": 12,
     "metadata": {},
     "output_type": "execute_result"
    }
   ],
   "source": [
    "np.sort(a) # Row wise sort"
   ]
  },
  {
   "cell_type": "code",
   "execution_count": 13,
   "metadata": {},
   "outputs": [
    {
     "data": {
      "text/plain": [
       "array([[[1, 2, 3, 4, 4],\n",
       "        [1, 2, 2, 2, 2]],\n",
       "\n",
       "       [[2, 3, 4, 8, 5],\n",
       "        [1, 2, 2, 2, 2]],\n",
       "\n",
       "       [[4, 5, 7, 9, 6],\n",
       "        [6, 7, 8, 9, 2]]])"
      ]
     },
     "execution_count": 13,
     "metadata": {},
     "output_type": "execute_result"
    }
   ],
   "source": [
    "np.sort(a,axis=0) # col wise sot"
   ]
  },
  {
   "cell_type": "code",
   "execution_count": null,
   "metadata": {},
   "outputs": [],
   "source": []
  }
 ],
 "metadata": {
  "kernelspec": {
   "display_name": "Python 3",
   "language": "python",
   "name": "python3"
  },
  "language_info": {
   "codemirror_mode": {
    "name": "ipython",
    "version": 3
   },
   "file_extension": ".py",
   "mimetype": "text/x-python",
   "name": "python",
   "nbconvert_exporter": "python",
   "pygments_lexer": "ipython3",
   "version": "3.10.11"
  },
  "orig_nbformat": 4
 },
 "nbformat": 4,
 "nbformat_minor": 2
}
