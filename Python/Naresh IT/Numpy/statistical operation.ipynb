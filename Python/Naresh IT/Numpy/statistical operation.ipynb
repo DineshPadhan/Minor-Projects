{
 "cells": [
  {
   "cell_type": "code",
   "execution_count": 1,
   "metadata": {},
   "outputs": [],
   "source": [
    "import numpy as np"
   ]
  },
  {
   "cell_type": "code",
   "execution_count": 2,
   "metadata": {},
   "outputs": [
    {
     "data": {
      "text/plain": [
       "array([[10, 15, 25],\n",
       "       [35, 24, 12],\n",
       "       [36, 28, 19]])"
      ]
     },
     "execution_count": 2,
     "metadata": {},
     "output_type": "execute_result"
    }
   ],
   "source": [
    "a = np.array([[10,15,25],[35, 24,12],[36,28,19]])\n",
    "a"
   ]
  },
  {
   "cell_type": "code",
   "execution_count": 3,
   "metadata": {},
   "outputs": [
    {
     "data": {
      "text/plain": [
       "36"
      ]
     },
     "execution_count": 3,
     "metadata": {},
     "output_type": "execute_result"
    }
   ],
   "source": [
    "maxv = np.amax(a)\n",
    "maxv"
   ]
  },
  {
   "cell_type": "code",
   "execution_count": 5,
   "metadata": {},
   "outputs": [
    {
     "name": "stdout",
     "output_type": "stream",
     "text": [
      "[36 28 25]\n",
      "[25 35 36]\n"
     ]
    }
   ],
   "source": [
    "colmax = np.amax(a,axis = 0)\n",
    "rowmax = np.amax(a,axis = 1)\n",
    "print(colmax)\n",
    "print(rowmax)"
   ]
  },
  {
   "cell_type": "code",
   "execution_count": 7,
   "metadata": {},
   "outputs": [
    {
     "name": "stdout",
     "output_type": "stream",
     "text": [
      "10\n",
      "[10 15 12]\n",
      "[10 12 19]\n"
     ]
    }
   ],
   "source": [
    "minv = np.amin(a)\n",
    "print(minv)\n",
    "colmax = np.amin(a,axis = 0)\n",
    "rowmax = np.amin(a,axis = 1)\n",
    "print(colmax)\n",
    "print(rowmax)"
   ]
  },
  {
   "cell_type": "code",
   "execution_count": 9,
   "metadata": {},
   "outputs": [
    {
     "name": "stdout",
     "output_type": "stream",
     "text": [
      "22.666666666666668\n"
     ]
    }
   ],
   "source": [
    "meanv = np.mean(a)\n",
    "\n",
    "print(meanv)"
   ]
  },
  {
   "cell_type": "code",
   "execution_count": 10,
   "metadata": {},
   "outputs": [
    {
     "name": "stdout",
     "output_type": "stream",
     "text": [
      "[27.         22.33333333 18.66666667]\n",
      "[16.66666667 23.66666667 27.66666667]\n"
     ]
    }
   ],
   "source": [
    "colmean = np.mean(a, axis=0)\n",
    "rowmean = np.mean(a, axis=1)\n",
    "print(colmean)\n",
    "print(rowmean)"
   ]
  },
  {
   "cell_type": "code",
   "execution_count": 11,
   "metadata": {},
   "outputs": [
    {
     "name": "stdout",
     "output_type": "stream",
     "text": [
      "24.0\n"
     ]
    }
   ],
   "source": [
    "med = np.median(a)\n",
    "print(med)"
   ]
  },
  {
   "cell_type": "code",
   "execution_count": 12,
   "metadata": {},
   "outputs": [
    {
     "name": "stdout",
     "output_type": "stream",
     "text": [
      "[35. 24. 19.]\n",
      "[15. 24. 28.]\n"
     ]
    }
   ],
   "source": [
    "colmed = np.median(a, axis=0)\n",
    "rowmed = np.median(a, axis=1)\n",
    "print(colmed)\n",
    "print(rowmed)"
   ]
  },
  {
   "cell_type": "code",
   "execution_count": 14,
   "metadata": {},
   "outputs": [
    {
     "name": "stdout",
     "output_type": "stream",
     "text": [
      "79.11111111111111\n",
      "[144.66666667  29.55555556  28.22222222]\n",
      "[38.88888889 88.22222222 48.22222222]\n"
     ]
    }
   ],
   "source": [
    "var = np.var(a)\n",
    "print(var)\n",
    "colvar = np.var(a, axis=0)\n",
    "rowvar = np.var(a, axis=1)\n",
    "print(colvar)\n",
    "print(rowvar)"
   ]
  },
  {
   "cell_type": "code",
   "execution_count": 15,
   "metadata": {},
   "outputs": [
    {
     "name": "stdout",
     "output_type": "stream",
     "text": [
      "8.894442709417556\n",
      "[12.0277457   5.43650214  5.31245915]\n",
      "[6.23609564 9.39266854 6.94422222]\n"
     ]
    }
   ],
   "source": [
    "s = np.std(a)\n",
    "print(s)\n",
    "colstd = np.std(a, axis=0)\n",
    "rowstd = np.std(a, axis=1)\n",
    "print(colstd)\n",
    "print(rowstd)"
   ]
  },
  {
   "cell_type": "code",
   "execution_count": 16,
   "metadata": {},
   "outputs": [],
   "source": [
    "import statistics as s"
   ]
  },
  {
   "cell_type": "code",
   "execution_count": 23,
   "metadata": {},
   "outputs": [
    {
     "data": {
      "text/plain": [
       "[1, 2, 3, 4, 5, 1, 2, 2, 2, 2, 4, 5, 7, 9, 4, 6, 7, 8, 9, 2, 2, 3, 4, 8, 6]"
      ]
     },
     "execution_count": 23,
     "metadata": {},
     "output_type": "execute_result"
    }
   ],
   "source": [
    "lst = [1, 2, 3, 4, 5,1, 2, 2, 2, 2,4, 5, 7, 9, 4,6, 7, 8, 9, 2,2, 3, 4, 8, 6]\n",
    "lst"
   ]
  },
  {
   "cell_type": "code",
   "execution_count": 25,
   "metadata": {},
   "outputs": [
    {
     "data": {
      "text/plain": [
       "2"
      ]
     },
     "execution_count": 25,
     "metadata": {},
     "output_type": "execute_result"
    }
   ],
   "source": [
    "freq = s.mode(lst)\n",
    "freq"
   ]
  },
  {
   "cell_type": "code",
   "execution_count": 26,
   "metadata": {},
   "outputs": [
    {
     "data": {
      "text/plain": [
       "[2]"
      ]
     },
     "execution_count": 26,
     "metadata": {},
     "output_type": "execute_result"
    }
   ],
   "source": [
    "mmode = s.multimode(lst)\n",
    "mmode"
   ]
  },
  {
   "cell_type": "code",
   "execution_count": null,
   "metadata": {},
   "outputs": [],
   "source": []
  }
 ],
 "metadata": {
  "kernelspec": {
   "display_name": "Python 3",
   "language": "python",
   "name": "python3"
  },
  "language_info": {
   "codemirror_mode": {
    "name": "ipython",
    "version": 3
   },
   "file_extension": ".py",
   "mimetype": "text/x-python",
   "name": "python",
   "nbconvert_exporter": "python",
   "pygments_lexer": "ipython3",
   "version": "3.10.11"
  },
  "orig_nbformat": 4
 },
 "nbformat": 4,
 "nbformat_minor": 2
}
